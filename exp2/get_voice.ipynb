{
 "cells": [
  {
   "cell_type": "code",
   "execution_count": 8,
   "metadata": {},
   "outputs": [],
   "source": [
    "apikey = \"\""
   ]
  },
  {
   "cell_type": "code",
   "execution_count": 14,
   "metadata": {},
   "outputs": [
    {
     "name": "stdout",
     "output_type": "stream",
     "text": [
      "Item1SenTR.mp3: A new audio file was saved successfully!\n",
      "Item2SenTR.mp3: A new audio file was saved successfully!\n",
      "Item3SenTR.mp3: A new audio file was saved successfully!\n",
      "Item4SenTR.mp3: A new audio file was saved successfully!\n",
      "Item5SenTR.mp3: A new audio file was saved successfully!\n",
      "Item6SenTR.mp3: A new audio file was saved successfully!\n",
      "Item7SenTR.mp3: A new audio file was saved successfully!\n",
      "Item8SenTR.mp3: A new audio file was saved successfully!\n",
      "Item9SenTR.mp3: A new audio file was saved successfully!\n",
      "Item10SenTR.mp3: A new audio file was saved successfully!\n",
      "Item11SenTR.mp3: A new audio file was saved successfully!\n",
      "Item12SenTR.mp3: A new audio file was saved successfully!\n",
      "Item13SenTR.mp3: A new audio file was saved successfully!\n",
      "Item14SenTR.mp3: A new audio file was saved successfully!\n",
      "Item15SenTR.mp3: A new audio file was saved successfully!\n",
      "Item16SenTR.mp3: A new audio file was saved successfully!\n",
      "Item17SenTR.mp3: A new audio file was saved successfully!\n",
      "Item18SenTR.mp3: A new audio file was saved successfully!\n",
      "Item19SenTR.mp3: A new audio file was saved successfully!\n",
      "Item20SenTR.mp3: A new audio file was saved successfully!\n",
      "Item21SenTR.mp3: A new audio file was saved successfully!\n",
      "Item22SenTR.mp3: A new audio file was saved successfully!\n",
      "Item23SenTR.mp3: A new audio file was saved successfully!\n",
      "Item24SenTR.mp3: A new audio file was saved successfully!\n",
      "Item25SenTR.mp3: A new audio file was saved successfully!\n",
      "Item26SenTR.mp3: A new audio file was saved successfully!\n",
      "Item27SenTR.mp3: A new audio file was saved successfully!\n",
      "Item28SenTR.mp3: A new audio file was saved successfully!\n",
      "Item29SenTR.mp3: A new audio file was saved successfully!\n",
      "Item30SenTR.mp3: A new audio file was saved successfully!\n",
      "Item31SenTR.mp3: A new audio file was saved successfully!\n",
      "Item32SenTR.mp3: A new audio file was saved successfully!\n",
      "Item33SenTR.mp3: A new audio file was saved successfully!\n",
      "Item34SenTR.mp3: A new audio file was saved successfully!\n",
      "Item35SenTR.mp3: A new audio file was saved successfully!\n",
      "Item36SenTR.mp3: A new audio file was saved successfully!\n",
      "Item37SenTR.mp3: A new audio file was saved successfully!\n",
      "Item38SenTR.mp3: A new audio file was saved successfully!\n",
      "Item39SenTR.mp3: A new audio file was saved successfully!\n",
      "Item40SenTR.mp3: A new audio file was saved successfully!\n",
      "Item41SenTR.mp3: A new audio file was saved successfully!\n",
      "Item42SenTR.mp3: A new audio file was saved successfully!\n",
      "Item43SenTR.mp3: A new audio file was saved successfully!\n",
      "Item44SenTR.mp3: A new audio file was saved successfully!\n",
      "Item45SenTR.mp3: A new audio file was saved successfully!\n",
      "Item46SenTR.mp3: A new audio file was saved successfully!\n",
      "Item47SenTR.mp3: A new audio file was saved successfully!\n",
      "Item48SenTR.mp3: A new audio file was saved successfully!\n",
      "Item49SenTR.mp3: A new audio file was saved successfully!\n",
      "Item50SenTR.mp3: A new audio file was saved successfully!\n",
      "Item51SenTR.mp3: A new audio file was saved successfully!\n",
      "Item52SenTR.mp3: A new audio file was saved successfully!\n",
      "Item53SenTR.mp3: A new audio file was saved successfully!\n",
      "Item54SenTR.mp3: A new audio file was saved successfully!\n",
      "Item55SenTR.mp3: A new audio file was saved successfully!\n",
      "Item56SenTR.mp3: A new audio file was saved successfully!\n"
     ]
    }
   ],
   "source": [
    "import os\n",
    "import uuid\n",
    "from elevenlabs import VoiceSettings\n",
    "from elevenlabs.client import ElevenLabs\n",
    "import pandas as pd\n",
    "import random\n",
    "\n",
    "client = ElevenLabs(\n",
    "    api_key=apikey,\n",
    ")\n",
    "\n",
    "def text_to_speech_file(text: str, fname) -> str:\n",
    "    speed = random.normalvariate(0.9, 0.05)\n",
    "    # Ensure the speed is within the range [0.8, 1.0]\n",
    "    speed = max(0.85, min(speed, 1.0))\n",
    "    # Calling the text_to_speech conversion API with detailed parameters\n",
    "    response = client.text_to_speech.convert(\n",
    "        voice_id=\"gyxPK6bLXQAkBSCeAKvk\", # Adam pre-made voice\n",
    "        output_format=\"mp3_22050_32\",\n",
    "        text=text,\n",
    "        model_id=\"eleven_turbo_v2_5\", # use the turbo model for low latency\n",
    "        # Optional voice settings that allow you to customize the output\n",
    "        voice_settings=VoiceSettings(\n",
    "            stability=0.71,\n",
    "            similarity_boost=0.42,\n",
    "            style=0.36,\n",
    "            use_speaker_boost=True,\n",
    "            speed=speed,\n",
    "        ),\n",
    "    )\n",
    "\n",
    "    # uncomment the line below to play the audio back\n",
    "    # play(response)\n",
    "\n",
    "    # Generating a unique file name for the output MP3 file\n",
    "    save_file_path = f\"{fname}\"\n",
    "\n",
    "    # Writing the audio to a file\n",
    "    with open(save_file_path, \"wb\") as f:\n",
    "        for chunk in response:\n",
    "            if chunk:\n",
    "                f.write(chunk)\n",
    "\n",
    "    print(f\"{save_file_path}: A new audio file was saved successfully!\")\n",
    "\n",
    "    # Return the path of the saved audio file\n",
    "    return save_file_path\n",
    "\n",
    "# Step 2: Read the CSV file into a DataFrame\n",
    "df = pd.read_csv('./chunk_includes/DataSource_TR_2.csv')\n",
    "\n",
    "# Step 3: Select only the \"Sentence\" and \"Sen_file\" columns\n",
    "df = df[['Sentence', 'Sen_file']]\n",
    "\n",
    "# Step 4: Filter the DataFrame to have unique \"Sen_file\" values\n",
    "df = df.drop_duplicates(subset=['Sen_file'])\n",
    "\n",
    "# Step 5: Modify the \"Sentence\" column\n",
    "df['Sentence'] = df['Sentence'].str.replace(\"Bana \", \"Bana o \")\n",
    "\n",
    "# Step 6: Use text_to_speech_file to convert each modified sentence to speech and save it to a file\n",
    "for index, row in df.iterrows():\n",
    "    text_to_speech_file(row['Sentence'], row['Sen_file'])"
   ]
  },
  {
   "cell_type": "code",
   "execution_count": null,
   "metadata": {},
   "outputs": [],
   "source": [
    "1, 4"
   ]
  },
  {
   "cell_type": "code",
   "execution_count": 17,
   "metadata": {},
   "outputs": [],
   "source": []
  },
  {
   "cell_type": "code",
   "execution_count": 24,
   "metadata": {},
   "outputs": [
    {
     "name": "stdout",
     "output_type": "stream",
     "text": [
      "Item1SenTR.mp3: A new audio file was saved successfully!\n",
      "Item4SenTR.mp3: A new audio file was saved successfully!\n"
     ]
    }
   ],
   "source": [
    "import os\n",
    "from mutagen.mp3 import MP3\n",
    "\n",
    "def list_long_mp3_files(file_paths):\n",
    "    long_files = []\n",
    "    for file_path in file_paths:\n",
    "        audio = MP3(file_path)\n",
    "        duration = audio.info.length\n",
    "        if duration > 4:  # 4 seconds\n",
    "            long_files.append(os.path.basename(file_path))\n",
    "    return long_files\n",
    "\n",
    "# Step 6: Filter the files that are longer than 4 seconds\n",
    "folder_path = '.'\n",
    "all_files = [os.path.join(folder_path, f\"{fname}\") for fname in df['Sen_file']]\n",
    "long_files = list_long_mp3_files(all_files)\n",
    "long_files_set = set(long_files)\n",
    "\n",
    "for index, row in df.iterrows():\n",
    "    if f\"{row['Sen_file']}\" in long_files_set:\n",
    "        text_to_speech_file(row['Sentence'], row['Sen_file'])"
   ]
  },
  {
   "cell_type": "code",
   "execution_count": null,
   "metadata": {},
   "outputs": [],
   "source": []
  }
 ],
 "metadata": {
  "kernelspec": {
   "display_name": "Python 3",
   "language": "python",
   "name": "python3"
  },
  "language_info": {
   "codemirror_mode": {
    "name": "ipython",
    "version": 3
   },
   "file_extension": ".py",
   "mimetype": "text/x-python",
   "name": "python",
   "nbconvert_exporter": "python",
   "pygments_lexer": "ipython3",
   "version": "3.11.11"
  }
 },
 "nbformat": 4,
 "nbformat_minor": 2
}
